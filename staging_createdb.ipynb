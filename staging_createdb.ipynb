{
 "cells": [
  {
   "cell_type": "code",
   "execution_count": 1,
   "metadata": {},
   "outputs": [],
   "source": [
    "import psycopg2\n",
    "from dbs_config import config"
   ]
  },
  {
   "cell_type": "code",
   "execution_count": 2,
   "metadata": {},
   "outputs": [],
   "source": [
    "# get parameters for the config\n",
    "params_ = config()\n",
    "\n",
    "# connect to covid_staging\n",
    "conn = psycopg2.connect(**params_)\n",
    "\n",
    "# create a new_cursor allowing us to write Python to execute PSQL\n",
    "cur = conn.cursor()\n",
    "\n",
    "conn.autocommit = True"
   ]
  },
  {
   "cell_type": "code",
   "execution_count": 3,
   "metadata": {},
   "outputs": [],
   "source": [
    "def connect():\n",
    "    conn = None\n",
    "    # get config\n",
    "    params_ = config()\n",
    "    # connect with the config from the .ini file\n",
    "    conn = psycopg2.connect(**params_)\n",
    "    return conn\n",
    "\n",
    "def createDB(conn):\n",
    "    cur = conn.cursor()\n",
    "    conn.autocommit = True\n",
    "    # make fake table for country\n",
    "    cur.execute(\"\"\"\n",
    "    DROP TABLE IF EXISTS staging_country CASCADE;\n",
    "    CREATE UNLOGGED TABLE staging_country (\n",
    "        countriesAndTerritories text PRIMARY KEY NOT NULL,\n",
    "        popData2018 int,\n",
    "        countryterritoryCode int,\n",
    "        continentExp int\n",
    "    );\"\"\")\n",
    "    # make fake table for report\n",
    "    cur.execute(\"\"\"\n",
    "    DROP TABLE IF EXISTS staging_report CASCADE;\n",
    "    CREATE UNLOGGED TABLE staging_report (\n",
    "        report_id serial primary key NOT NULL,\n",
    "        geoID text NOT NULL,\n",
    "        day int NOT NULL,\n",
    "        month int NOT NULL,\n",
    "        year int NOT NULL,\n",
    "        cases int NOT NULL,\n",
    "        deaths int NOT NULL\n",
    "    );\"\"\")\n",
    "    cur.execute(\"\"\"\n",
    "    DROP TABLE IF EXISTS staging_reported;\n",
    "    CREATE UNLOGGED TABLE staging_reported (\n",
    "        countriesAndTerritories text references staging_country (countriesAndTerritories),\n",
    "        report_id serial references staging_report (report_id) NOT NULL,\n",
    "        dateRep text NOT NULL,\n",
    "        PRIMARY KEY (report_id, countriesAndTerritories)\n",
    "    );\"\"\")\n",
    "    conn.commit\n",
    "    return conn\n",
    "\n",
    "def main():\n",
    "    conn = None\n",
    "    \n",
    "    try:\n",
    "        conn = connect()\n",
    "        conn = createDB(conn)\n",
    "    except (Exception, psycopg2.DatabaseError) as error:\n",
    "        print(\"WRONG\")\n",
    "        print(error)\n",
    "    finally:\n",
    "        if conn is not None:\n",
    "            conn.close\n",
    "\n",
    "if __name__ == '__main__':\n",
    "    main()"
   ]
  }
 ],
 "metadata": {
  "kernelspec": {
   "display_name": "Python 3",
   "language": "python",
   "name": "python3"
  },
  "language_info": {
   "codemirror_mode": {
    "name": "ipython",
    "version": 3
   },
   "file_extension": ".py",
   "mimetype": "text/x-python",
   "name": "python",
   "nbconvert_exporter": "python",
   "pygments_lexer": "ipython3",
   "version": "3.7.4"
  }
 },
 "nbformat": 4,
 "nbformat_minor": 4
}
